{
  "cells": [
    {
      "cell_type": "code",
      "execution_count": 1,
      "metadata": {
        "id": "Un6f0vZ39IsP"
      },
      "outputs": [],
      "source": [
        "from sklearn.cluster import KMeans\n",
        "from skimage.filters import threshold_otsu\n",
        "import os\n",
        "import cv2\n",
        "import numpy as np\n",
        "import matplotlib.pyplot as plt\n",
        "from sklearn.metrics import accuracy_score\n",
        "from sklearn.neighbors import KNeighborsClassifier\n",
        "from sklearn import svm"
      ]
    },
    {
      "cell_type": "code",
      "execution_count": 2,
      "metadata": {
        "colab": {
          "base_uri": "https://localhost:8080/"
        },
        "id": "iqZEvBgCR-TS",
        "outputId": "b332b9c9-f4bd-4d6b-e302-4ec44dc0dab0"
      },
      "outputs": [
        {
          "output_type": "stream",
          "name": "stdout",
          "text": [
            "Mounted at /content/drive\n"
          ]
        }
      ],
      "source": [
        "from google.colab import drive\n",
        "drive.mount('/content/drive')"
      ]
    },
    {
      "cell_type": "code",
      "execution_count": 3,
      "metadata": {
        "colab": {
          "base_uri": "https://localhost:8080/"
        },
        "id": "A_KhGcHySC1T",
        "outputId": "5a02944f-2cef-431a-f456-5d2738050cfe"
      },
      "outputs": [
        {
          "output_type": "stream",
          "name": "stdout",
          "text": [
            "/content/drive/MyDrive/Colab Notebooks\n"
          ]
        }
      ],
      "source": [
        "%cd drive/MyDrive/Colab\\ Notebooks"
      ]
    },
    {
      "cell_type": "code",
      "execution_count": null,
      "metadata": {
        "colab": {
          "base_uri": "https://localhost:8080/"
        },
        "id": "SF0sv736SD8L",
        "outputId": "1282902a-6332-439f-ca06-c357ae592da1"
      },
      "outputs": [
        {
          "name": "stdout",
          "output_type": "stream",
          "text": [
            "/content/drive/My Drive/Colab Notebooks\n"
          ]
        }
      ],
      "source": [
        "!pwd"
      ]
    },
    {
      "cell_type": "code",
      "execution_count": 4,
      "metadata": {
        "id": "YzA1NBeYai_o"
      },
      "outputs": [],
      "source": [
        "def Enhancement(image):\n",
        "  image=cv2.cvtColor(image, cv2.COLOR_BGR2RGB)\n",
        "  enhanced_image=image.copy()\n",
        "\n",
        "  #sharp\n",
        "  laplacian=cv2.Laplacian(enhanced_image, cv2.CV_64F, ksize=3)\n",
        "  enhanced=cv2.convertScaleAbs(enhanced_image-laplacian)\n",
        "\n",
        "  #clustering\n",
        "  r,g,b=cv2.split(enhanced_image)\n",
        "  img_hsv=cv2.cvtColor(enhanced_image, cv2.COLOR_RGB2HSV)\n",
        "  h,s,v=cv2.split(img_hsv)\n",
        "  img_gray=0.7*s+0.3*v\n",
        "  x=img_gray.flatten().reshape(-1,1)\n",
        "  kmeans=KMeans(n_clusters=2, n_init='auto')\n",
        "  kmeans.fit(x)\n",
        "  label=kmeans.predict(x)\n",
        "  bin=label.reshape(img_gray.shape)\n",
        "  enhanced_image[:,:,0]=r*bin\n",
        "  enhanced_image[:,:,1]=g*bin\n",
        "  enhanced_image[:,:,2]=b*bin\n",
        "  enhanced_image=cv2.cvtColor(enhanced_image,cv2.COLOR_RGB2GRAY)\n",
        "\n",
        "  #sobel\n",
        "  sobelx=cv2.Sobel(enhanced_image, cv2.CV_64F,1,0, ksize=3)\n",
        "  sobely=cv2.Sobel(enhanced_image, cv2.CV_64F,0,1, ksize=3)\n",
        "  enhanced_image=np.sqrt(sobelx**2 + sobely**2)\n",
        "\n",
        "  #Morphological\n",
        "  kernel=np.ones((3,3), np.uint8)\n",
        "  enhanced_image=cv2.dilate(enhanced_image, kernel, iterations=1)\n",
        "\n",
        "  #otsu\n",
        "  otsu=threshold_otsu(enhanced_image)\n",
        "  enhanced_image=enhanced_image>otsu\n",
        "\n",
        "  return enhanced_image"
      ]
    },
    {
      "cell_type": "code",
      "execution_count": 11,
      "metadata": {
        "id": "SkDeqRqFSIg0"
      },
      "outputs": [],
      "source": [
        "dataset_dir='/content/drive/MyDrive/Colab Notebooks/chess/Chess/'\n",
        "train_data=[]\n",
        "train_labels=[]\n",
        "\n",
        "train_dir=os.path.join(dataset_dir, 'train')\n",
        "for class_name in os.listdir(train_dir):\n",
        "  class_dir=os.path.join(train_dir, class_name)\n",
        "  for image_name in os.listdir(class_dir):\n",
        "    image_path=os.path.join(class_dir, image_name)\n",
        "    image=cv2.imread(image_path)\n",
        "    image=cv2.resize(image,(200,200), interpolation=cv2.INTER_AREA)\n",
        "    image=Enhancement(image)\n",
        "    train_data.append(image.flatten())\n",
        "    train_labels.append(class_name)\n",
        "\n",
        "train_data=np.array(train_data)\n",
        "train_labels=np.array(train_labels)"
      ]
    },
    {
      "cell_type": "code",
      "execution_count": 12,
      "metadata": {
        "id": "IqBAwZUiZ2m0"
      },
      "outputs": [],
      "source": [
        "test_data=[]\n",
        "test_labels=[]\n",
        "test_dir=os.path.join(dataset_dir, 'test')\n",
        "for class_name in os.listdir(test_dir):\n",
        "  class_dir=os.path.join(test_dir, class_name)\n",
        "  for image_name in os.listdir(class_dir):\n",
        "    image_path=os.path.join(class_dir, image_name)\n",
        "    image=cv2.imread(image_path)\n",
        "    image=cv2.resize(image,(200,200), interpolation=cv2.INTER_AREA)\n",
        "    image=Enhancement(image)\n",
        "    test_data.append(image.flatten())\n",
        "    test_labels.append(class_name)\n",
        "test_data=np.array(test_data)\n",
        "test_labels=np.array(test_labels)"
      ]
    },
    {
      "cell_type": "code",
      "execution_count": null,
      "metadata": {
        "colab": {
          "base_uri": "https://localhost:8080/"
        },
        "id": "lcAj5ImzZ-KQ",
        "outputId": "53b59d22-ad51-4a95-e7c7-bc377a1f14b0"
      },
      "outputs": [
        {
          "name": "stdout",
          "output_type": "stream",
          "text": [
            "Accuracy of KNN: 0.4393939393939394\n"
          ]
        }
      ],
      "source": [
        "knn=KNeighborsClassifier(n_neighbors=6)\n",
        "knn.fit(train_data, train_labels)\n",
        "predictions=knn.predict(test_data)\n",
        "accuracy=accuracy_score(test_labels, predictions)\n",
        "print(\"Accuracy of KNN:\", accuracy)"
      ]
    },
    {
      "cell_type": "code",
      "execution_count": 13,
      "metadata": {
        "colab": {
          "base_uri": "https://localhost:8080/"
        },
        "id": "o-t2t6EvL-t0",
        "outputId": "44fadf19-cfd5-4b1c-f772-4fd1d08fcc95"
      },
      "outputs": [
        {
          "output_type": "stream",
          "name": "stdout",
          "text": [
            "Accuracy of SVM: 0.3484848484848485\n"
          ]
        }
      ],
      "source": [
        "classifier=svm.SVC()\n",
        "classifier.fit(train_data, train_labels)\n",
        "y_pred=classifier.predict(test_data)\n",
        "accuracy=accuracy_score(test_labels, y_pred)\n",
        "print(\"Accuracy of SVM:\", accuracy)"
      ]
    },
    {
      "cell_type": "code",
      "execution_count": null,
      "metadata": {
        "colab": {
          "base_uri": "https://localhost:8080/",
          "height": 451
        },
        "id": "FfSEzKxC41UI",
        "outputId": "fd0052f4-7dd5-479e-f0ab-8dac599d82ed"
      },
      "outputs": [
        {
          "name": "stdout",
          "output_type": "stream",
          "text": [
            "Predicted class: ['King']\n"
          ]
        },
        {
          "data": {
            "image/png": "[encoded data removed]",
            "text/plain": [
              "<Figure size 640x480 with 1 Axes>"
            ]
          },
          "metadata": {},
          "output_type": "display_data"
        }
      ],
      "source": [
        "image_path='/content/drive/MyDrive/Colab Notebooks/chess/Chess/predict/king.jpg'\n",
        "image=cv2.imread(image_path)\n",
        "image=cv2.resize(image,(200,200), interpolation=cv2.INTER_AREA)\n",
        "image=Enhancement(image)\n",
        "plt.imshow(image, cmap='gray')\n",
        "image=image.flatten()\n",
        "predicted_class=knn.predict([image])\n",
        "print(\"Predicted class:\", predicted_class)"
      ]
    }
  ],
  "metadata": {
    "colab": {
      "provenance": []
    },
    "kernelspec": {
      "display_name": "Python 3",
      "name": "python3"
    },
    "language_info": {
      "name": "python"
    }
  },
  "nbformat": 4,
  "nbformat_minor": 0
}